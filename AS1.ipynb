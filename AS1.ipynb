{
 "cells": [
  {
   "cell_type": "code",
   "execution_count": 1,
   "metadata": {
    "collapsed": true
   },
   "outputs": [],
   "source": [
    "import os\n",
    "import subprocess\n",
    "def module(*args):        \n",
    "    if isinstance(args[0], list):        \n",
    "        args = args[0]        \n",
    "    else:        \n",
    "        args = list(args)        \n",
    "    (output, error) = subprocess.Popen(['/usr/bin/modulecmd', 'python'] + args, stdout=subprocess.PIPE).communicate()\n",
    "    exec(output)    \n",
    "module('load', 'apps/java/jdk1.8.0_102/binary')    \n",
    "os.environ['PYSPARK_PYTHON'] = os.environ['HOME'] + '/.conda/envs/jupyter-spark/bin/python'"
   ]
  },
  {
   "cell_type": "code",
   "execution_count": 2,
   "metadata": {
    "collapsed": true
   },
   "outputs": [],
   "source": [
    "#import findspark\n",
    "#findspark.init()\n",
    "import pyspark\n",
    "\n",
    "from pyspark.sql import SparkSession\n",
    "\n",
    "spark = SparkSession.builder \\\n",
    "    .master(\"local[2]\") \\\n",
    "    .appName(\"COM6012 Spark Intro\") \\\n",
    "    .getOrCreate()\n",
    "\n",
    "sc = spark.sparkContext"
   ]
  },
  {
   "cell_type": "code",
   "execution_count": 10,
   "metadata": {},
   "outputs": [
    {
     "data": {
      "text/html": [
       "\n",
       "            <div>\n",
       "                <p><b>SparkSession - in-memory</b></p>\n",
       "                \n",
       "        <div>\n",
       "            <p><b>SparkContext</b></p>\n",
       "\n",
       "            <p><a href=\"http://sharc-node041.shef.ac.uk:4041\">Spark UI</a></p>\n",
       "\n",
       "            <dl>\n",
       "              <dt>Version</dt>\n",
       "                <dd><code>v2.3.2</code></dd>\n",
       "              <dt>Master</dt>\n",
       "                <dd><code>local[2]</code></dd>\n",
       "              <dt>AppName</dt>\n",
       "                <dd><code>COM6012 Spark Intro</code></dd>\n",
       "            </dl>\n",
       "        </div>\n",
       "        \n",
       "            </div>\n",
       "        "
      ],
      "text/plain": [
       "<pyspark.sql.session.SparkSession at 0x2b1b2a2d6828>"
      ]
     },
     "execution_count": 10,
     "metadata": {},
     "output_type": "execute_result"
    }
   ],
   "source": [
    "spark"
   ]
  },
  {
   "cell_type": "markdown",
   "metadata": {},
   "source": [
    "## Answer 1.A ##"
   ]
  },
  {
   "cell_type": "code",
   "execution_count": 11,
   "metadata": {},
   "outputs": [
    {
     "name": "stdout",
     "output_type": "stream",
     "text": [
      "+-----------------------------------------------------------------------------------------------------------------------+\n",
      "|value                                                                                                                  |\n",
      "+-----------------------------------------------------------------------------------------------------------------------+\n",
      "|199.72.81.55 - - [01/Jul/1995:00:00:01 -0400] \"GET /history/apollo/ HTTP/1.0\" 200 6245                                 |\n",
      "|unicomp6.unicomp.net - - [01/Jul/1995:00:00:06 -0400] \"GET /shuttle/countdown/ HTTP/1.0\" 200 3985                      |\n",
      "|199.120.110.21 - - [01/Jul/1995:00:00:09 -0400] \"GET /shuttle/missions/sts-73/mission-sts-73.html HTTP/1.0\" 200 4085   |\n",
      "|burger.letters.com - - [01/Jul/1995:00:00:11 -0400] \"GET /shuttle/countdown/liftoff.html HTTP/1.0\" 304 0               |\n",
      "|199.120.110.21 - - [01/Jul/1995:00:00:11 -0400] \"GET /shuttle/missions/sts-73/sts-73-patch-small.gif HTTP/1.0\" 200 4179|\n",
      "+-----------------------------------------------------------------------------------------------------------------------+\n",
      "only showing top 5 rows\n",
      "\n"
     ]
    }
   ],
   "source": [
    "# importing libraries\n",
    "import pyspark.sql.functions as f\n",
    "from pyspark.sql.functions import *\n",
    "\n",
    "# reading data\n",
    "logFile = spark.read.text('Data/NASA_access_log_Jul95.gz')\n",
    "logFile.show(5, False)\n"
   ]
  },
  {
   "cell_type": "code",
   "execution_count": 4,
   "metadata": {
    "collapsed": true
   },
   "outputs": [],
   "source": [
    "# split operations\n",
    "split_col = f.split(logFile['value'], ' ')\n",
    "logFile1 = logFile.withColumn('host', split_col.getItem(0))\n",
    "logFile2 = logFile1.withColumn('a', split_col.getItem(1))\n",
    "logFile3 = logFile2.withColumn('b', split_col.getItem(2))\n",
    "logFile4 = logFile3.withColumn('timestamp', split_col.getItem(3))\n",
    "logFile5 = logFile4.withColumn('c', split_col.getItem(4))\n",
    "logFile6 = logFile5.withColumn('get', split_col.getItem(5))\n",
    "logFile7 = logFile6.withColumn('request', split_col.getItem(6))\n",
    "logFile8 = logFile7.withColumn('total', split_col.getItem(7))\n",
    "logFile9 = logFile8.withColumn('HTTP', split_col.getItem(8))\n",
    "logFile10 = logFile9.withColumn('bytes', split_col.getItem(9))"
   ]
  },
  {
   "cell_type": "code",
   "execution_count": 7,
   "metadata": {},
   "outputs": [
    {
     "name": "stdout",
     "output_type": "stream",
     "text": [
      "+----+------+\n",
      "|days| count|\n",
      "+----+------+\n",
      "| Sun|182590|\n",
      "| Mon|301684|\n",
      "| Thu|363436|\n",
      "| Sat|184380|\n",
      "| Wed|318698|\n",
      "| Tue|277840|\n",
      "| Fri|263086|\n",
      "+----+------+\n",
      "\n"
     ]
    }
   ],
   "source": [
    "# table modification\n",
    "d_time = logFile10.drop('value', 'a', 'b', 'total')\n",
    "spcl = f.split(d_time['timestamp'], ':')\n",
    "d_time = d_time.withColumn('timestamp', spcl.getItem(0))\n",
    "d_time_new = d_time.select('timestamp')\n",
    "ime = f.split(d_time_new['timestamp'], '\\[')\n",
    "d_time_new = d_time_new.withColumn('timestamp', ime.getItem(1))\n",
    "changed_d_time = d_time_new.withColumn('updatedtimestamp', regexp_replace('timestamp','/Jul/','-07-'))\n",
    "changed_d_time = changed_d_time.drop('timestamp')\n",
    "changed_d_time = changed_d_time.withColumn('dateformat', to_date('updatedtimestamp', 'dd-MM-yyyy'))\n",
    "changed_d_time = changed_d_time.withColumn('days', date_format('dateformat','E'))\n",
    "days_name = changed_d_time.groupBy('days').count()\n",
    "days_name = days_name.where(days_name.days.isNotNull()) # removing null\n",
    "days_name.show()"
   ]
  },
  {
   "cell_type": "code",
   "execution_count": 8,
   "metadata": {},
   "outputs": [
    {
     "data": {
      "text/plain": [
       "1891715"
      ]
     },
     "execution_count": 8,
     "metadata": {},
     "output_type": "execute_result"
    }
   ],
   "source": [
    "d_time.select('request').count()"
   ]
  },
  {
   "cell_type": "code",
   "execution_count": 12,
   "metadata": {},
   "outputs": [
    {
     "name": "stdout",
     "output_type": "stream",
     "text": [
      "The average number of requests on Sunday is 45647.5\n",
      "The average number of requests on Monday is 75421.0\n",
      "The average number of requests on Tuesday is 69460.0\n",
      "The average number of requests on Wednesday is 79674.5\n",
      "The average number of requests on Thursday is 90859.0\n",
      "The average number of requests on Friday is 65771.5\n",
      "The average number of requests on Saturday is 46095.0\n"
     ]
    }
   ],
   "source": [
    "# Dividing each by 4 as the total number of unique days is 4\n",
    "avg_sun = 182590/4\n",
    "avg_mon = 301684/4\n",
    "avg_thu = 363436/4\n",
    "avg_sat = 184380/4\n",
    "avg_wed = 318698/4\n",
    "avg_tue = 277840/4\n",
    "avg_fri = 263086/4\n",
    "print('The average number of requests on Sunday is', avg_sun)\n",
    "print('The average number of requests on Monday is', avg_mon)\n",
    "print('The average number of requests on Tuesday is', avg_tue)\n",
    "print('The average number of requests on Wednesday is', avg_wed)\n",
    "print('The average number of requests on Thursday is', avg_thu)\n",
    "print('The average number of requests on Friday is', avg_fri)\n",
    "print('The average number of requests on Saturday is', avg_sat)"
   ]
  },
  {
   "cell_type": "markdown",
   "metadata": {},
   "source": [
    "## Answer 1.B ##"
   ]
  },
  {
   "cell_type": "code",
   "execution_count": 32,
   "metadata": {
    "collapsed": true
   },
   "outputs": [],
   "source": [
    "import matplotlib\n",
    "import matplotlib.pyplot as plt\n",
    "% matplotlib inline"
   ]
  },
  {
   "cell_type": "code",
   "execution_count": 36,
   "metadata": {},
   "outputs": [
    {
     "data": {
      "text/plain": [
       "Text(0.5, 1.0, 'Average Requests on Each Day')"
      ]
     },
     "execution_count": 36,
     "metadata": {},
     "output_type": "execute_result"
    },
    {
     "data": {
      "image/png": "[encoded data removed]",
      "text/plain": [
       "<Figure size 432x288 with 1 Axes>"
      ]
     },
     "metadata": {},
     "output_type": "display_data"
    }
   ],
   "source": [
    "# plot the values\n",
    "pie_dates = days_name.toPandas()\n",
    "pie_dates.plot(kind = 'pie', y = 'count', labels = pie_dates['days'], legend = False)\n",
    "plt.title('Average Requests on Each Day')"
   ]
  },
  {
   "cell_type": "markdown",
   "metadata": {},
   "source": [
    "## Answer 1.C ##"
   ]
  },
  {
   "cell_type": "code",
   "execution_count": 37,
   "metadata": {},
   "outputs": [
    {
     "name": "stdout",
     "output_type": "stream",
     "text": [
      "+---------------------------------------------------+------+\n",
      "|request                                            |count |\n",
      "+---------------------------------------------------+------+\n",
      "|/images/NASA-logosmall.gif                         |111144|\n",
      "|/images/KSC-logosmall.gif                          |89530 |\n",
      "|/images/MOSAIC-logosmall.gif                       |60300 |\n",
      "|/images/USA-logosmall.gif                          |59845 |\n",
      "|/images/WORLD-logosmall.gif                        |59325 |\n",
      "|/images/ksclogo-medium.gif                         |58616 |\n",
      "|/images/launch-logo.gif                            |40841 |\n",
      "|/images/ksclogosmall.gif                           |33555 |\n",
      "|/history/apollo/images/apollo-logo1.gif            |31052 |\n",
      "|/shuttle/countdown/count.gif                       |22189 |\n",
      "|/shuttle/countdown/count70.gif                     |20921 |\n",
      "|/images/launchmedium.gif                           |20788 |\n",
      "|/shuttle/missions/sts-71/sts-71-patch-small.gif    |19832 |\n",
      "|/shuttle/missions/sts-70/sts-70-patch-small.gif    |18135 |\n",
      "|/history/apollo/images/footprint-logo.gif          |16168 |\n",
      "|/history/apollo/images/footprint-small.gif         |13912 |\n",
      "|/history/apollo/apollo-13/apollo-13-patch-small.gif|13004 |\n",
      "|/shuttle/countdown/video/livevideo.gif             |10143 |\n",
      "|/history/apollo/images/apollo-small.gif            |10089 |\n",
      "|/shuttle/countdown/video/livevideo2.gif            |9816  |\n",
      "+---------------------------------------------------+------+\n",
      "only showing top 20 rows\n",
      "\n"
     ]
    }
   ],
   "source": [
    "# finding count of top 20 requests\n",
    "website = d_time.select('request')\n",
    "website = website.filter(website.request.contains(\".gif\"))\n",
    "website = website.groupBy('request').count()\n",
    "web = website.orderBy('count', ascending = False)\n",
    "web.show(20, False)"
   ]
  },
  {
   "cell_type": "markdown",
   "metadata": {},
   "source": [
    "## Answer 1.D ##"
   ]
  },
  {
   "cell_type": "code",
   "execution_count": 43,
   "metadata": {},
   "outputs": [
    {
     "data": {
      "text/plain": [
       "Text(0.5, 1.0, 'Top 20 Most Requested .gif Images')"
      ]
     },
     "execution_count": 43,
     "metadata": {},
     "output_type": "execute_result"
    },
    {
     "data": {
      "image/png": "[encoded data removed]",
      "text/plain": [
       "<Figure size 432x288 with 1 Axes>"
      ]
     },
     "metadata": {},
     "output_type": "display_data"
    }
   ],
   "source": [
    "# plotting the values\n",
    "gif_bar = web.limit(20).toPandas()\n",
    "gif_bar.plot(kind = 'bar', y = 'count', x = 'request', legend = True)\n",
    "plt.title('Top 20 Most Requested .gif Images')"
   ]
  },
  {
   "cell_type": "markdown",
   "metadata": {},
   "source": [
    "## Answer 2.A ##"
   ]
  },
  {
   "cell_type": "code",
   "execution_count": 44,
   "metadata": {
    "collapsed": true
   },
   "outputs": [],
   "source": [
    "# importing libraries\n",
    "from pyspark.ml.evaluation import RegressionEvaluator\n",
    "from pyspark.ml.recommendation import ALS\n",
    "from pyspark.sql import Row\n",
    "import numpy as np"
   ]
  },
  {
   "cell_type": "code",
   "execution_count": 45,
   "metadata": {
    "collapsed": true
   },
   "outputs": [],
   "source": [
    "# loading data\n",
    "ratings = spark.read.load(\"Data/ml-20m/ratings.csv\",format=\"csv\", inferSchema=\"true\", header=\"true\")"
   ]
  },
  {
   "cell_type": "code",
   "execution_count": 46,
   "metadata": {},
   "outputs": [
    {
     "name": "stdout",
     "output_type": "stream",
     "text": [
      "+------+-------+------+----------+\n",
      "|userId|movieId|rating|timestamp |\n",
      "+------+-------+------+----------+\n",
      "|1     |2      |3.5   |1112486027|\n",
      "|1     |29     |3.5   |1112484676|\n",
      "|1     |32     |3.5   |1112484819|\n",
      "|1     |47     |3.5   |1112484727|\n",
      "|1     |50     |3.5   |1112484580|\n",
      "+------+-------+------+----------+\n",
      "only showing top 5 rows\n",
      "\n"
     ]
    }
   ],
   "source": [
    "ratings.show(5, False)"
   ]
  },
  {
   "cell_type": "code",
   "execution_count": 47,
   "metadata": {},
   "outputs": [
    {
     "data": {
      "text/plain": [
       "[DataFrame[userId: int, movieId: int, rating: double, timestamp: int],\n",
       " DataFrame[userId: int, movieId: int, rating: double, timestamp: int],\n",
       " DataFrame[userId: int, movieId: int, rating: double, timestamp: int],\n",
       " DataFrame[userId: int, movieId: int, rating: double, timestamp: int],\n",
       " DataFrame[userId: int, movieId: int, rating: double, timestamp: int]]"
      ]
     },
     "execution_count": 47,
     "metadata": {},
     "output_type": "execute_result"
    }
   ],
   "source": [
    "# splitting the data in to 5 parts\n",
    "ratings_split = ratings.randomSplit([0.2, 0.2, 0.2, 0.2, 0.2])\n",
    "ratings_split"
   ]
  },
  {
   "cell_type": "code",
   "execution_count": 48,
   "metadata": {},
   "outputs": [
    {
     "name": "stdout",
     "output_type": "stream",
     "text": [
      "Iteration1\n",
      "Iteration2\n",
      "Iteration3\n",
      "Iteration4\n",
      "Iteration5\n",
      "Root-mean-square error for Drop = \n",
      "[0.8643843534413855, 0.8655667434886545, 0.8659394951061191, 0.8662702856353186, 0.8662523873215012]\n",
      "Root-mean-square error for reg = \n",
      "[0.8632276067748995, 0.864425908550884, 0.8647671723737859, 0.8651279928590947, 0.8651229181013846]\n",
      "Mean-average error for Drop = \n",
      "[0.6689303164378689, 0.6698214442265666, 0.6701502740246369, 0.6704782775716464, 0.6703724097900341]\n",
      "Mean-average error for reg = \n",
      "[0.6663492897354671, 0.6673315209193306, 0.6676059291303929, 0.6679872957909944, 0.6678914388662792]\n"
     ]
    }
   ],
   "source": [
    "# ALS operation\n",
    "k = 5\n",
    "rmse_5_drop = []\n",
    "rmse_5_reg = []\n",
    "mae_5_drop = []\n",
    "mae_5_reg = []\n",
    "ifac = []\n",
    "\n",
    "# looping over data to implement k-fold\n",
    "for i in range(0, k):\n",
    "    training = None\n",
    "    for j in range(1, k):\n",
    "        if i == j:\n",
    "            continue\n",
    "        if training == None:\n",
    "            training = ratings_split[j]\n",
    "        else:\n",
    "            training = training.union(ratings_split[j])\n",
    "    print('Iteration' + str(i+1))\n",
    "    testing = ratings_split[i]        \n",
    "    als_drop = ALS(maxIter=10, rank = 1, regParam=0.1, userCol=\"userId\", itemCol=\"movieId\", ratingCol=\"rating\", coldStartStrategy=\"drop\")\n",
    "    als_reg = ALS(maxIter=5, rank = 1, regParam=0.1, userCol=\"userId\", itemCol=\"movieId\", ratingCol=\"rating\", coldStartStrategy=\"drop\")\n",
    "    model_drop = als_drop.fit(training)\n",
    "    model_reg = als_reg.fit(training)\n",
    "    ifac.append(model_drop.itemFactors)\n",
    "    predictions_drop = model_drop.transform(testing)\n",
    "    predictions_reg = model_reg.transform(testing)\n",
    "    evaluator_rmse = RegressionEvaluator(metricName=\"rmse\", labelCol=\"rating\",predictionCol=\"prediction\")\n",
    "    evaluator_mae = RegressionEvaluator(metricName=\"mae\", labelCol=\"rating\",predictionCol=\"prediction\")\n",
    "    rmse_drop = evaluator_rmse.evaluate(predictions_drop)\n",
    "    rmse_reg = evaluator_rmse.evaluate(predictions_reg)\n",
    "    mae_drop = evaluator_mae.evaluate(predictions_drop)\n",
    "    mae_reg = evaluator_mae.evaluate(predictions_reg)\n",
    "    \n",
    "    rmse_5_drop.append(rmse_drop)\n",
    "    rmse_5_reg.append(rmse_reg)\n",
    "    mae_5_drop.append(mae_drop)\n",
    "    mae_5_reg.append(mae_reg)\n",
    "    \n",
    "\n",
    "print(\"Root-mean-square error for Drop = \")\n",
    "print(rmse_5_drop)\n",
    "\n",
    "print(\"Root-mean-square error for reg = \")\n",
    "print(rmse_5_reg)\n",
    "\n",
    "print(\"Mean-average error for Drop = \")\n",
    "print(mae_5_drop)\n",
    "\n",
    "print(\"Mean-average error for reg = \")\n",
    "print(mae_5_reg)"
   ]
  },
  {
   "cell_type": "code",
   "execution_count": 49,
   "metadata": {},
   "outputs": [
    {
     "name": "stdout",
     "output_type": "stream",
     "text": [
      "Average RMSE for 1st case is 0.865682652999\n",
      "Average MAE for 1st case is 0.66995054441\n",
      "Average RMSE for 2nd case is 0.864534319732\n",
      "Average MAE for 2nd case is 0.667433094888\n"
     ]
    }
   ],
   "source": [
    "# calculating values\n",
    "rmse_5_avg_drop = np.mean(rmse_5_drop)\n",
    "mae_5_avg_drop = np.mean(mae_5_drop)\n",
    "rmse_5_avg_reg = np.mean(rmse_5_reg)\n",
    "mae_5_avg_reg = np.mean(mae_5_reg)\n",
    "print('Average RMSE for 1st case is ' + str(rmse_5_avg_drop))\n",
    "print('Average MAE for 1st case is ' + str(mae_5_avg_drop))\n",
    "print('Average RMSE for 2nd case is ' + str(rmse_5_avg_reg))\n",
    "print('Average MAE for 2nd case is ' + str(mae_5_avg_reg))"
   ]
  },
  {
   "cell_type": "code",
   "execution_count": 50,
   "metadata": {},
   "outputs": [
    {
     "name": "stdout",
     "output_type": "stream",
     "text": [
      "RMSE Standard deviation for 1st case is 0.00069783865433\n",
      "MAE Standard deviation for 1st case is 0.000557475843462\n",
      "RMSE Standard deviation for 2nd case is 0.000703188155689\n",
      "MAE Standard deviation for 2nd case is 0.000588564422713\n"
     ]
    }
   ],
   "source": [
    "rmse_5_std_drop = np.std(rmse_5_drop)\n",
    "mae_5_std_drop = np.std(mae_5_drop)\n",
    "rmse_5_std_reg = np.std(rmse_5_reg)\n",
    "mae_5_std_reg = np.std(mae_5_reg)\n",
    "print('RMSE Standard deviation for 1st case is ' + str(rmse_5_std_drop))\n",
    "print('MAE Standard deviation for 1st case is ' + str(mae_5_std_drop))\n",
    "print('RMSE Standard deviation for 2nd case is ' + str(rmse_5_std_reg))\n",
    "print('MAE Standard deviation for 2nd case is ' + str(mae_5_std_reg))"
   ]
  },
  {
   "cell_type": "markdown",
   "metadata": {},
   "source": [
    "## Answer 2.C ##"
   ]
  },
  {
   "cell_type": "code",
   "execution_count": 51,
   "metadata": {
    "collapsed": true
   },
   "outputs": [],
   "source": [
    "import pyspark.sql.functions as f\n",
    "from pyspark.ml.clustering import KMeans\n",
    "from pyspark.sql.functions import udf, col\n",
    "from pyspark.ml.linalg import Vectors, VectorUDT\n",
    "from pyspark.ml.evaluation import ClusteringEvaluator"
   ]
  },
  {
   "cell_type": "code",
   "execution_count": 52,
   "metadata": {
    "collapsed": true
   },
   "outputs": [],
   "source": [
    "genome_scores = spark.read.load(\"Data/ml-20m/genome-scores.csv\",format=\"csv\", inferSchema=\"true\", header=\"true\")\n",
    "genome_tags = spark.read.load(\"Data/ml-20m/genome-tags.csv\",format=\"csv\", inferSchema=\"true\", header=\"true\")"
   ]
  },
  {
   "cell_type": "code",
   "execution_count": 53,
   "metadata": {
    "collapsed": true
   },
   "outputs": [],
   "source": [
    "# implementing UDF for dense vectors\n",
    "dense_vectors = f.udf(lambda r : Vectors.dense(r),VectorUDT())\n",
    "list_of_movies = []\n",
    "# k-means implementation\n",
    "for cluster in range(len(ifac)):\n",
    "    # dataframe generation\n",
    "    data_frame_1 = ifac[cluster].withColumn(\"densevectors\",dense_vectors(\"features\"))\n",
    "    data_frame_2 = data_frame_1.drop(\"features\")\n",
    "    data_frame_3 = data_frame_2.selectExpr(\"id as id\" , \"densevectors as features\")\n",
    "    kmeans = KMeans().setK(20).setSeed(1)\n",
    "    model = kmeans.fit(data_frame_3)\n",
    "    predictions = model.transform(data_frame_3)\n",
    "    trans = predictions.groupBy(\"prediction\").count()\n",
    "    transformed = trans.orderBy(\"count\", ascending = False).limit(3)\n",
    "    top_transform = transformed.collect()\n",
    "    top_three = []\n",
    "    list_of_ids = []\n",
    "    for top in top_transform:\n",
    "        top_three.append(top.prediction)\n",
    "    for each in range(3):\n",
    "        id_clusters = predictions.filter(predictions.prediction == top_three[each])\n",
    "        collectids = id_clusters.collect()\n",
    "        id_clus = []\n",
    "        for row in collectids:\n",
    "            id_clus.append(row.id)\n",
    "        list_of_ids.append(id_clus)\n",
    "    list_of_movies.append(list_of_ids)    "
   ]
  },
  {
   "cell_type": "code",
   "execution_count": 54,
   "metadata": {},
   "outputs": [
    {
     "name": "stdout",
     "output_type": "stream",
     "text": [
      "Split : 1\n",
      "Cluster : 1\n",
      "+-----+------------+\n",
      "|tagId|         tag|\n",
      "+-----+------------+\n",
      "|  188| catastrophe|\n",
      "|  302|    dialogue|\n",
      "|  468|great ending|\n",
      "|  646|      mentor|\n",
      "|  742|    original|\n",
      "+-----+------------+\n",
      "\n",
      "Split : 1\n",
      "Cluster : 2\n",
      "+-----+------------+\n",
      "|tagId|         tag|\n",
      "+-----+------------+\n",
      "|  188| catastrophe|\n",
      "|  302|    dialogue|\n",
      "|  468|great ending|\n",
      "|  646|      mentor|\n",
      "|  742|    original|\n",
      "+-----+------------+\n",
      "\n",
      "Split : 1\n",
      "Cluster : 3\n",
      "+-----+---------------+\n",
      "|tagId|            tag|\n",
      "+-----+---------------+\n",
      "|  302|       dialogue|\n",
      "|  452|good soundtrack|\n",
      "|  468|   great ending|\n",
      "|  646|         mentor|\n",
      "|  742|       original|\n",
      "+-----+---------------+\n",
      "\n",
      "Split : 2\n",
      "Cluster : 1\n",
      "+-----+---------------+\n",
      "|tagId|            tag|\n",
      "+-----+---------------+\n",
      "|  302|       dialogue|\n",
      "|  452|good soundtrack|\n",
      "|  468|   great ending|\n",
      "|  646|         mentor|\n",
      "|  742|       original|\n",
      "+-----+---------------+\n",
      "\n",
      "Split : 2\n",
      "Cluster : 2\n",
      "+-----+---------------+\n",
      "|tagId|            tag|\n",
      "+-----+---------------+\n",
      "|  302|       dialogue|\n",
      "|  452|good soundtrack|\n",
      "|  468|   great ending|\n",
      "|  646|         mentor|\n",
      "|  742|       original|\n",
      "+-----+---------------+\n",
      "\n",
      "Split : 2\n",
      "Cluster : 3\n",
      "+-----+------------+\n",
      "|tagId|         tag|\n",
      "+-----+------------+\n",
      "|  188| catastrophe|\n",
      "|  302|    dialogue|\n",
      "|  468|great ending|\n",
      "|  646|      mentor|\n",
      "|  742|    original|\n",
      "+-----+------------+\n",
      "\n",
      "Split : 3\n",
      "Cluster : 1\n",
      "+-----+---------------+\n",
      "|tagId|            tag|\n",
      "+-----+---------------+\n",
      "|  302|       dialogue|\n",
      "|  452|good soundtrack|\n",
      "|  468|   great ending|\n",
      "|  646|         mentor|\n",
      "|  742|       original|\n",
      "+-----+---------------+\n",
      "\n",
      "Split : 3\n",
      "Cluster : 2\n",
      "+-----+---------------+\n",
      "|tagId|            tag|\n",
      "+-----+---------------+\n",
      "|  302|       dialogue|\n",
      "|  452|good soundtrack|\n",
      "|  468|   great ending|\n",
      "|  646|         mentor|\n",
      "|  742|       original|\n",
      "+-----+---------------+\n",
      "\n",
      "Split : 3\n",
      "Cluster : 3\n",
      "+-----+------------+\n",
      "|tagId|         tag|\n",
      "+-----+------------+\n",
      "|  188| catastrophe|\n",
      "|  302|    dialogue|\n",
      "|  468|great ending|\n",
      "|  646|      mentor|\n",
      "|  742|    original|\n",
      "+-----+------------+\n",
      "\n",
      "Split : 4\n",
      "Cluster : 1\n",
      "+-----+---------------+\n",
      "|tagId|            tag|\n",
      "+-----+---------------+\n",
      "|  302|       dialogue|\n",
      "|  452|good soundtrack|\n",
      "|  468|   great ending|\n",
      "|  646|         mentor|\n",
      "|  742|       original|\n",
      "+-----+---------------+\n",
      "\n",
      "Split : 4\n",
      "Cluster : 2\n",
      "+-----+---------------+\n",
      "|tagId|            tag|\n",
      "+-----+---------------+\n",
      "|  452|good soundtrack|\n",
      "|  468|   great ending|\n",
      "|  646|         mentor|\n",
      "|  742|       original|\n",
      "|  972|   storytelling|\n",
      "+-----+---------------+\n",
      "\n",
      "Split : 4\n",
      "Cluster : 3\n",
      "+-----+---------------+\n",
      "|tagId|            tag|\n",
      "+-----+---------------+\n",
      "|  302|       dialogue|\n",
      "|  452|good soundtrack|\n",
      "|  468|   great ending|\n",
      "|  646|         mentor|\n",
      "|  742|       original|\n",
      "+-----+---------------+\n",
      "\n",
      "Split : 5\n",
      "Cluster : 1\n",
      "+-----+---------------+\n",
      "|tagId|            tag|\n",
      "+-----+---------------+\n",
      "|  302|       dialogue|\n",
      "|  452|good soundtrack|\n",
      "|  468|   great ending|\n",
      "|  646|         mentor|\n",
      "|  742|       original|\n",
      "+-----+---------------+\n",
      "\n",
      "Split : 5\n",
      "Cluster : 2\n",
      "+-----+---------------+\n",
      "|tagId|            tag|\n",
      "+-----+---------------+\n",
      "|  302|       dialogue|\n",
      "|  452|good soundtrack|\n",
      "|  468|   great ending|\n",
      "|  646|         mentor|\n",
      "|  742|       original|\n",
      "+-----+---------------+\n",
      "\n",
      "Split : 5\n",
      "Cluster : 3\n",
      "+-----+------------+\n",
      "|tagId|         tag|\n",
      "+-----+------------+\n",
      "|  270|   criterion|\n",
      "|  468|great ending|\n",
      "|  646|      mentor|\n",
      "|  742|    original|\n",
      "|  972|storytelling|\n",
      "+-----+------------+\n",
      "\n"
     ]
    }
   ],
   "source": [
    "for each in list_of_movies:\n",
    "    for cluster in each:\n",
    "        add_movie = list_of_movies.index(each)+1\n",
    "        print('Split : ' + str(add_movie))\n",
    "        add_cluster = each.index(cluster)+1\n",
    "        print('Cluster : ' + str(add_cluster))\n",
    "        mov = genome_scores.where(genome_scores.movieId.isin(cluster))\n",
    "        tags = mov.groupBy(\"tagId\").agg(f.sum(\"relevance\"))\n",
    "        top = tags.orderBy(\"sum(relevance)\", ascending = False).limit(5)\n",
    "        top_five = top.collect()\n",
    "        list_of_tags = []\n",
    "        for five in top_five:\n",
    "              list_of_tags.append(five.tagId)\n",
    "        genome_tags.where(genome_tags.tagId.isin(list_of_tags)).show(5)             "
   ]
  }
 ],
 "metadata": {
  "anaconda-cloud": {},
  "kernelspec": {
   "display_name": "Python 3",
   "language": "python",
   "name": "python3"
  },
  "language_info": {
   "codemirror_mode": {
    "name": "ipython",
    "version": 3
   },
   "file_extension": ".py",
   "mimetype": "text/x-python",
   "name": "python",
   "nbconvert_exporter": "python",
   "pygments_lexer": "ipython3",
   "version": "3.6.5"
  }
 },
 "nbformat": 4,
 "nbformat_minor": 2
}
